{
  "nbformat": 4,
  "nbformat_minor": 0,
  "metadata": {
    "colab": {
      "name": "myproject",
      "provenance": [],
      "collapsed_sections": [],
      "toc_visible": true,
      "include_colab_link": true
    },
    "kernelspec": {
      "name": "python3",
      "display_name": "Python 3"
    },
    "accelerator": "GPU"
  },
  "cells": [
    {
      "cell_type": "markdown",
      "metadata": {
        "id": "view-in-github",
        "colab_type": "text"
      },
      "source": [
        "<a href=\"https://colab.research.google.com/github/Tanya163/CoviDetect/blob/main/myproject.ipynb\" target=\"_parent\"><img src=\"https://colab.research.google.com/assets/colab-badge.svg\" alt=\"Open In Colab\"/></a>"
      ]
    },
    {
      "cell_type": "code",
      "metadata": {
        "id": "-DZifwxr_I8w",
        "colab": {
          "base_uri": "https://localhost:8080/"
        },
        "outputId": "ea9cbbfa-5a80-43f2-e0e9-8c98f3907175"
      },
      "source": [
        "!wget http://cb.lk/covid_19"
      ],
      "execution_count": null,
      "outputs": [
        {
          "output_type": "stream",
          "text": [
            "--2020-11-20 16:29:40--  http://cb.lk/covid_19\n",
            "Resolving cb.lk (cb.lk)... 159.89.170.74\n",
            "Connecting to cb.lk (cb.lk)|159.89.170.74|:80... connected.\n",
            "HTTP request sent, awaiting response... 301 Moved Permanently\n",
            "Location: https://cb.lk/covid_19 [following]\n",
            "--2020-11-20 16:29:41--  https://cb.lk/covid_19\n",
            "Connecting to cb.lk (cb.lk)|159.89.170.74|:443... connected.\n",
            "HTTP request sent, awaiting response... 302 Found\n",
            "Location: https://www.dropbox.com/s/7rjw6oet4za01op/CovidDataset-20200427T133042Z-001.zip?dl=0 [following]\n",
            "--2020-11-20 16:29:42--  https://www.dropbox.com/s/7rjw6oet4za01op/CovidDataset-20200427T133042Z-001.zip?dl=0\n",
            "Resolving www.dropbox.com (www.dropbox.com)... 162.125.6.1, 2620:100:601c:1::a27d:601\n",
            "Connecting to www.dropbox.com (www.dropbox.com)|162.125.6.1|:443... connected.\n",
            "HTTP request sent, awaiting response... 301 Moved Permanently\n",
            "Location: /s/raw/7rjw6oet4za01op/CovidDataset-20200427T133042Z-001.zip [following]\n",
            "--2020-11-20 16:29:42--  https://www.dropbox.com/s/raw/7rjw6oet4za01op/CovidDataset-20200427T133042Z-001.zip\n",
            "Reusing existing connection to www.dropbox.com:443.\n",
            "HTTP request sent, awaiting response... 302 Found\n",
            "Location: https://ucf1e37c06615d6a880802e5d886.dl.dropboxusercontent.com/cd/0/inline/BDmwUkyhtlMFX-cyJw2TXZjBaVqVaCGDOSxvLyHlWrbm0zECvTc2WEimF2ck419BwskkVnv0c2xaq5ejaM_17iKX5fiowE_7lQa3te8RwmQpZMFUnFEdjErO8DHzinovJ90/file# [following]\n",
            "--2020-11-20 16:29:42--  https://ucf1e37c06615d6a880802e5d886.dl.dropboxusercontent.com/cd/0/inline/BDmwUkyhtlMFX-cyJw2TXZjBaVqVaCGDOSxvLyHlWrbm0zECvTc2WEimF2ck419BwskkVnv0c2xaq5ejaM_17iKX5fiowE_7lQa3te8RwmQpZMFUnFEdjErO8DHzinovJ90/file\n",
            "Resolving ucf1e37c06615d6a880802e5d886.dl.dropboxusercontent.com (ucf1e37c06615d6a880802e5d886.dl.dropboxusercontent.com)... 162.125.6.15, 2620:100:601c:15::a27d:60f\n",
            "Connecting to ucf1e37c06615d6a880802e5d886.dl.dropboxusercontent.com (ucf1e37c06615d6a880802e5d886.dl.dropboxusercontent.com)|162.125.6.15|:443... connected.\n",
            "HTTP request sent, awaiting response... 302 Found\n",
            "Location: /cd/0/inline2/BDnY1cfjFT8hQ-M-cN6JNNm8MCbncwSAthyp4jbnDJIDdRsiLeAtsJYuYJoIyGB3tVtFgXDUhWlqM0UL-xxDvao0YKJll_phd38XgJ-VqWuq95AKB4mZqOQ8UGVjQX7LexcC8-01IdpPxXRlI6kFwqHBfiglD5PYAO0wohanXxvxO0HgpN4kUz1_BEvulNsIDUxmXCIj1xXVkfnn7tYO3nuLuXCqHqd2mzKXK1ArLiDuge-0NG3_coIitvyjRmIAtXWV0fmp0IReZovbqo4_-df9kcSm2RUp50UVpr4LG5amlvfPDyS071MU88i3kch03Vit53lokxXWefVUkb4Bjs_d_pfqQ6Tz6dlYgr4X9H1J4w/file [following]\n",
            "--2020-11-20 16:29:43--  https://ucf1e37c06615d6a880802e5d886.dl.dropboxusercontent.com/cd/0/inline2/BDnY1cfjFT8hQ-M-cN6JNNm8MCbncwSAthyp4jbnDJIDdRsiLeAtsJYuYJoIyGB3tVtFgXDUhWlqM0UL-xxDvao0YKJll_phd38XgJ-VqWuq95AKB4mZqOQ8UGVjQX7LexcC8-01IdpPxXRlI6kFwqHBfiglD5PYAO0wohanXxvxO0HgpN4kUz1_BEvulNsIDUxmXCIj1xXVkfnn7tYO3nuLuXCqHqd2mzKXK1ArLiDuge-0NG3_coIitvyjRmIAtXWV0fmp0IReZovbqo4_-df9kcSm2RUp50UVpr4LG5amlvfPDyS071MU88i3kch03Vit53lokxXWefVUkb4Bjs_d_pfqQ6Tz6dlYgr4X9H1J4w/file\n",
            "Reusing existing connection to ucf1e37c06615d6a880802e5d886.dl.dropboxusercontent.com:443.\n",
            "HTTP request sent, awaiting response... 200 OK\n",
            "Length: 140830621 (134M) [application/zip]\n",
            "Saving to: ‘covid_19’\n",
            "\n",
            "covid_19            100%[===================>] 134.31M  91.3MB/s    in 1.5s    \n",
            "\n",
            "2020-11-20 16:29:45 (91.3 MB/s) - ‘covid_19’ saved [140830621/140830621]\n",
            "\n"
          ],
          "name": "stdout"
        }
      ]
    },
    {
      "cell_type": "markdown",
      "metadata": {
        "id": "iWnoge9Wfc3D"
      },
      "source": [
        "# New Section"
      ]
    },
    {
      "cell_type": "code",
      "metadata": {
        "id": "mD_8q67K_NbN"
      },
      "source": [
        "!unzip covid_19"
      ],
      "execution_count": null,
      "outputs": []
    },
    {
      "cell_type": "code",
      "metadata": {
        "id": "DCa-E-SD_Xm6"
      },
      "source": [
        "TRAIN_PATH=\"CovidDataset/Train\"\n",
        "VAL_PATH=\"CovidDataset/Test\"\n"
      ],
      "execution_count": null,
      "outputs": []
    },
    {
      "cell_type": "code",
      "metadata": {
        "id": "1CWd53thAg2-",
        "colab": {
          "base_uri": "https://localhost:8080/",
          "height": 34
        },
        "outputId": "1d040cc1-9017-4a9e-984e-721a97c77b78"
      },
      "source": [
        "import numpy as np\n",
        "import matplotlib.pyplot as plt\n",
        "import keras\n",
        "from keras.layers import *\n",
        "from keras.models import *\n",
        "from keras.preprocessing import image\n"
      ],
      "execution_count": null,
      "outputs": [
        {
          "output_type": "stream",
          "text": [
            "Using TensorFlow backend.\n"
          ],
          "name": "stderr"
        }
      ]
    },
    {
      "cell_type": "code",
      "metadata": {
        "id": "UF7Ue3caBCOk",
        "colab": {
          "base_uri": "https://localhost:8080/",
          "height": 622
        },
        "outputId": "b8f4197b-1d5c-4349-9b81-363227a1b57f"
      },
      "source": [
        "model=Sequential()\n",
        "model.add(Conv2D(32,kernel_size=(3,3),activation='relu',input_shape=(224,224,3)))\n",
        "model.add(Conv2D(64,(3,3),activation='relu'))\n",
        "model.add(MaxPooling2D(pool_size=(2,2)))\n",
        "model.add(Dropout(0.25))\n",
        "\n",
        "model.add(Conv2D(64,(3,3),activation='relu'))\n",
        "model.add(MaxPooling2D(pool_size=(2,2)))\n",
        "model.add(Dropout(0.25))\n",
        "\n",
        "model.add(Conv2D(128,(3,3),activation='relu'))\n",
        "model.add(MaxPooling2D(pool_size=(2,2)))\n",
        "model.add(Dropout(0.25))\n",
        "\n",
        "model.add(Flatten())\n",
        "model.add(Dense(64,activation='relu'))\n",
        "model.add(Dropout(0.25))\n",
        "\n",
        "model.add(Dense(1,activation='sigmoid'))\n",
        "\n",
        "model.compile(loss=keras.losses.binary_crossentropy,optimizer='adam',metrics=['accuracy'])\n",
        "model.summary()\n",
        "\n",
        "\n"
      ],
      "execution_count": null,
      "outputs": [
        {
          "output_type": "stream",
          "text": [
            "Model: \"sequential_1\"\n",
            "_________________________________________________________________\n",
            "Layer (type)                 Output Shape              Param #   \n",
            "=================================================================\n",
            "conv2d_1 (Conv2D)            (None, 222, 222, 32)      896       \n",
            "_________________________________________________________________\n",
            "conv2d_2 (Conv2D)            (None, 220, 220, 64)      18496     \n",
            "_________________________________________________________________\n",
            "max_pooling2d_1 (MaxPooling2 (None, 110, 110, 64)      0         \n",
            "_________________________________________________________________\n",
            "dropout_1 (Dropout)          (None, 110, 110, 64)      0         \n",
            "_________________________________________________________________\n",
            "conv2d_3 (Conv2D)            (None, 108, 108, 64)      36928     \n",
            "_________________________________________________________________\n",
            "max_pooling2d_2 (MaxPooling2 (None, 54, 54, 64)        0         \n",
            "_________________________________________________________________\n",
            "dropout_2 (Dropout)          (None, 54, 54, 64)        0         \n",
            "_________________________________________________________________\n",
            "conv2d_4 (Conv2D)            (None, 52, 52, 128)       73856     \n",
            "_________________________________________________________________\n",
            "max_pooling2d_3 (MaxPooling2 (None, 26, 26, 128)       0         \n",
            "_________________________________________________________________\n",
            "dropout_3 (Dropout)          (None, 26, 26, 128)       0         \n",
            "_________________________________________________________________\n",
            "flatten_1 (Flatten)          (None, 86528)             0         \n",
            "_________________________________________________________________\n",
            "dense_1 (Dense)              (None, 64)                5537856   \n",
            "_________________________________________________________________\n",
            "dropout_4 (Dropout)          (None, 64)                0         \n",
            "_________________________________________________________________\n",
            "dense_2 (Dense)              (None, 1)                 65        \n",
            "=================================================================\n",
            "Total params: 5,668,097\n",
            "Trainable params: 5,668,097\n",
            "Non-trainable params: 0\n",
            "_________________________________________________________________\n"
          ],
          "name": "stdout"
        }
      ]
    },
    {
      "cell_type": "code",
      "metadata": {
        "id": "THbJ2oV6BkKH"
      },
      "source": [
        "#train from scratch dataset\n",
        "train_datagen=image.ImageDataGenerator(\n",
        "     rescale=1./255,\n",
        "     shear_range =0.2,\n",
        "    zoom_range =0.2,\n",
        "    horizontal_flip=True,\n",
        "\n",
        ")\n",
        "test_dataset=image.ImageDataGenerator(\n",
        "    rescale=1./255\n",
        ")"
      ],
      "execution_count": null,
      "outputs": []
    },
    {
      "cell_type": "code",
      "metadata": {
        "id": "lTp4EB0nFQzx",
        "colab": {
          "base_uri": "https://localhost:8080/",
          "height": 50
        },
        "outputId": "2014aa4f-4dd1-4e3c-8366-07c56bc02e54"
      },
      "source": [
        "train_generator=train_datagen.flow_from_directory(\n",
        "    'CovidDataset/Train',\n",
        "    target_size=(224,224),\n",
        "    batch_size=32,\n",
        "    class_mode='binary'\n",
        "\n",
        ")\n",
        "\n",
        "validation_generator=train_datagen.flow_from_directory(\n",
        "       'CovidDataset/Val',\n",
        "    target_size=(224,224),\n",
        "    batch_size=32,\n",
        "    class_mode='binary'\n",
        "\n",
        "    \n",
        ")\n",
        "\n",
        "\n",
        "\n",
        "\n",
        "\n",
        "\n",
        "\n",
        "\n",
        "\n",
        "\n",
        "\n",
        "\n"
      ],
      "execution_count": null,
      "outputs": [
        {
          "output_type": "stream",
          "text": [
            "Found 224 images belonging to 2 classes.\n",
            "Found 60 images belonging to 2 classes.\n"
          ],
          "name": "stdout"
        }
      ]
    },
    {
      "cell_type": "code",
      "metadata": {
        "id": "kmoTTrnRIcpW",
        "colab": {
          "base_uri": "https://localhost:8080/",
          "height": 353
        },
        "outputId": "290c0ed1-2133-4313-d59e-d0bc18c7aef9"
      },
      "source": [
        "hist=model.fit_generator(\n",
        "    train_generator,\n",
        "    steps_per_epoch=8,\n",
        "    epochs=10,\n",
        "    validation_data=validation_generator,\n",
        "    validation_steps=2\n",
        "    )\n"
      ],
      "execution_count": null,
      "outputs": [
        {
          "output_type": "stream",
          "text": [
            "Epoch 1/10\n",
            "8/8 [==============================] - 10s 1s/step - loss: 0.2241 - accuracy: 0.9180 - val_loss: 0.2182 - val_accuracy: 0.9167\n",
            "Epoch 2/10\n",
            "8/8 [==============================] - 10s 1s/step - loss: 0.3051 - accuracy: 0.8828 - val_loss: 0.2177 - val_accuracy: 0.9167\n",
            "Epoch 3/10\n",
            "8/8 [==============================] - 10s 1s/step - loss: 0.2759 - accuracy: 0.8711 - val_loss: 0.2476 - val_accuracy: 0.9000\n",
            "Epoch 4/10\n",
            "8/8 [==============================] - 10s 1s/step - loss: 0.3844 - accuracy: 0.8242 - val_loss: 0.1771 - val_accuracy: 0.9667\n",
            "Epoch 5/10\n",
            "8/8 [==============================] - 10s 1s/step - loss: 0.2820 - accuracy: 0.8906 - val_loss: 0.1197 - val_accuracy: 0.9833\n",
            "Epoch 6/10\n",
            "8/8 [==============================] - 9s 1s/step - loss: 0.2425 - accuracy: 0.8711 - val_loss: 0.2164 - val_accuracy: 1.0000\n",
            "Epoch 7/10\n",
            "8/8 [==============================] - 9s 1s/step - loss: 0.2168 - accuracy: 0.9180 - val_loss: 0.0503 - val_accuracy: 0.9667\n",
            "Epoch 8/10\n",
            "8/8 [==============================] - 10s 1s/step - loss: 0.1955 - accuracy: 0.9141 - val_loss: 0.1753 - val_accuracy: 0.9500\n",
            "Epoch 9/10\n",
            "8/8 [==============================] - 9s 1s/step - loss: 0.1751 - accuracy: 0.9375 - val_loss: 0.1055 - val_accuracy: 0.9667\n",
            "Epoch 10/10\n",
            "8/8 [==============================] - 9s 1s/step - loss: 0.1502 - accuracy: 0.9492 - val_loss: 0.0614 - val_accuracy: 0.9667\n"
          ],
          "name": "stdout"
        }
      ]
    },
    {
      "cell_type": "code",
      "metadata": {
        "id": "4Mp5B6cAMXr5"
      },
      "source": [
        ""
      ],
      "execution_count": null,
      "outputs": []
    }
  ]
}